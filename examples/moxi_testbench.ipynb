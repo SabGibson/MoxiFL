{
 "cells": [
  {
   "cell_type": "code",
   "execution_count": 1,
   "id": "96db43d0",
   "metadata": {},
   "outputs": [],
   "source": [
    "import sys\n",
    "sys.path.append(\"..\")\n",
    "import torch\n",
    "from torch.utils.data import TensorDataset, DataLoader\n",
    "import torch.nn as nn\n",
    "from torch.optim import SGD\n",
    "import asyncio\n",
    "from moxi import assemble_network\n",
    "\n",
    "def create_synthetic_data(num_nodes=5, samples_per_node=100, input_dim=10, noise=0.1):\n",
    "    \"\"\"\n",
    "    Creates synthetic regression data split across multiple nodes\n",
    "    \n",
    "    Args:\n",
    "        num_nodes: Number of nodes in the network\n",
    "        samples_per_node: Number of samples per node\n",
    "        input_dim: Dimension of input features\n",
    "        noise: Standard deviation of Gaussian noise\n",
    "    \n",
    "    Returns:\n",
    "        list of (train_loader, val_loader) pairs for each node\n",
    "    \"\"\"\n",
    "    # Create true parameters\n",
    "    true_weights = torch.randn(input_dim, 1)\n",
    "    true_bias = torch.randn(1)\n",
    "    \n",
    "    node_datasets = []\n",
    "    \n",
    "    for i in range(num_nodes):\n",
    "        # Generate features\n",
    "        X = torch.randn(samples_per_node, input_dim)\n",
    "        \n",
    "        # Generate targets with noise\n",
    "        y = torch.mm(X, true_weights) + true_bias + torch.randn(samples_per_node, 1) * noise\n",
    "        \n",
    "        # Split into train/val (80/20)\n",
    "        train_size = int(0.8 * samples_per_node)\n",
    "        \n",
    "        X_train, y_train = X[:train_size], y[:train_size]\n",
    "        X_val, y_val = X[train_size:], y[train_size:]\n",
    "        \n",
    "        # Create datasets\n",
    "        train_ds = TensorDataset(X_train, y_train)\n",
    "        val_ds = TensorDataset(X_val, y_val)\n",
    "        \n",
    "        # Create dataloaders\n",
    "        train_loader = DataLoader(train_ds, batch_size=16, shuffle=True)\n",
    "        val_loader = DataLoader(val_ds, batch_size=16)\n",
    "        \n",
    "        node_datasets.append((train_loader, val_loader))\n",
    "    \n",
    "    return node_datasets\n",
    "\n",
    "# Create the data\n",
    "data = create_synthetic_data(num_nodes=5, samples_per_node=100, input_dim=10)\n"
   ]
  },
  {
   "cell_type": "code",
   "execution_count": 2,
   "id": "76d4dcf3",
   "metadata": {},
   "outputs": [],
   "source": [
    "# Simple regression model to use with the data\n",
    "class SimpleRegression(nn.Module):\n",
    "    def __init__(self, input_dim):\n",
    "        super().__init__()\n",
    "        self.linear = nn.Linear(input_dim, 1)\n",
    "        \n",
    "    def forward(self, x):\n",
    "        return self.linear(x)\n",
    "\n",
    "model = SimpleRegression(input_dim=10)\n"
   ]
  },
  {
   "cell_type": "code",
   "execution_count": null,
   "id": "5d47bdcc",
   "metadata": {},
   "outputs": [],
   "source": [
    "global_conf = {\n",
    "  \"network_name\": \"federated_mnist_experiment\",\n",
    "  \"network_type\": \"decentralised\",\n",
    "  \"model_type\": \"parametric\",\n",
    "  \"ml_framework\": \"pytorch\",\n",
    "  \"comms\": \"async\",\n",
    "  \"federated_rounds\": 5,\n",
    "  \"network_size\": 5,\n",
    "  \"metrics\": [\"mean_perfomance\",\"convergence\"],\n",
    "  \"logger\": \"mlflow\",\n",
    "  \"node_base_config\":{\n",
    "      \"model\":None,\n",
    "      \"learning_rate\": 1e-3,\n",
    "      \"optimizer\": SGD,\n",
    "      \"train_data\":None,\n",
    "      \"val_data\":None,\n",
    "      \"criterion\":nn.MSELoss,\n",
    "      \"random_sampling\":False,\n",
    "      \"n_epochs\": 5\n",
    "  },\n",
    "  \"adjcency_matrix\": None,\n",
    "  \"model\": None }"
   ]
  },
  {
   "cell_type": "code",
   "execution_count": null,
   "id": "baa9be0e",
   "metadata": {},
   "outputs": [
    {
     "name": "stderr",
     "output_type": "stream",
     "text": [
      "2025/09/08 00:57:55 INFO mlflow.tracking.fluent: Experiment with name 'Federated_Learning' does not exist. Creating a new experiment.\n"
     ]
    }
   ],
   "source": [
    "import nest_asyncio\n",
    "nest_asyncio.apply()\n",
    "\n",
    "# Make sure execute_run is async\n",
    "async def execute_run():\n",
    "    flnw = assemble_network(global_conf, model, data)\n",
    "    loss_val = await flnw.train(num_rounds=10, epochs_per_round=5)  # FL train function must be async\n",
    "    return loss_val\n",
    "\n",
    "# In Jupyter, just await instead of asyncio.run\n",
    "loss_history = await execute_run()\n"
   ]
  },
  {
   "cell_type": "code",
   "execution_count": 5,
   "id": "2fb1c552",
   "metadata": {},
   "outputs": [
    {
     "data": {
      "text/plain": [
       "defaultdict(list, {})"
      ]
     },
     "execution_count": 5,
     "metadata": {},
     "output_type": "execute_result"
    }
   ],
   "source": [
    "loss_history"
   ]
  },
  {
   "cell_type": "code",
   "execution_count": null,
   "id": "5b845c57",
   "metadata": {},
   "outputs": [],
   "source": []
  }
 ],
 "metadata": {
  "kernelspec": {
   "display_name": "moxifl",
   "language": "python",
   "name": "python3"
  },
  "language_info": {
   "codemirror_mode": {
    "name": "ipython",
    "version": 3
   },
   "file_extension": ".py",
   "mimetype": "text/x-python",
   "name": "python",
   "nbconvert_exporter": "python",
   "pygments_lexer": "ipython3",
   "version": "3.11.13"
  }
 },
 "nbformat": 4,
 "nbformat_minor": 5
}
