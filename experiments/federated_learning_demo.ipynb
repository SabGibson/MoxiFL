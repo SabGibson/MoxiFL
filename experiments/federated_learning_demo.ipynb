{
 "cells": [
  {
   "cell_type": "markdown",
   "id": "9259a203",
   "metadata": {},
   "source": [
    "Experiment Type 1 : Regression , Dirichelet; alpha=1  "
   ]
  },
  {
   "cell_type": "code",
   "execution_count": null,
   "id": "80797c23",
   "metadata": {},
   "outputs": [
    {
     "name": "stderr",
     "output_type": "stream",
     "text": [
      "/home/sgtec/miniconda3/envs/moxifl/lib/python3.11/site-packages/requests/__init__.py:86: RequestsDependencyWarning: Unable to find acceptable character detection dependency (chardet or charset_normalizer).\n",
      "  warnings.warn(\n"
     ]
    }
   ],
   "source": [
    "import sys\n",
    "sys.path.append(\"..\")\n",
    "from flwr_datasets.partitioner import DirichletPartitioner\n",
    "import torch.nn as nn\n",
    "from torch.optim import SGD\n",
    "from moxi import create_experiment"
   ]
  },
  {
   "cell_type": "code",
   "execution_count": null,
   "id": "5abcb00f",
   "metadata": {},
   "outputs": [],
   "source": [
    "config = {\n",
    "  \"network_name\": \"federated_mnist_experiment\",\n",
    "  \"network_type\": \"decentralised\",\n",
    "  \"model_type\": \"parametric\",\n",
    "  \"ml_framework\": \"pytorch\",\n",
    "  \"comms\": \"async\",\n",
    "  \"federated_rounds\": 5,\n",
    "  \"network_size\": 5,\n",
    "  \"metrics\": [\"mean_perfomance\",\"convergence\"],\n",
    "  \"logger\": \"mlflow\",\n",
    "  \"node_base_config\":{\n",
    "      \"model\":None,\n",
    "      \"learning_rate\": 1e-3,\n",
    "      \"optimizer\": SGD,\n",
    "      \"train_data\":None,\n",
    "      \"val_data\":None,\n",
    "      \"criterion\":nn.MSELoss,\n",
    "      \"random_sampling\":False,\n",
    "      \"n_epochs\": 5,\n",
    "      \"batch_size\": 16\n",
    "  },\n",
    "  \"experiment_config\":{\n",
    "      \"task\": \"regression\",\n",
    "      \"partitioner\": DirichletPartitioner,\n",
    "      \"alpha\": 1,\n",
    "      \"num_worker\": 2,\n",
    "      \"max_samples\": 1000\n",
    "  },\n",
    "  \"adjcency_matrix\": None,\n",
    "  \"model\": None }"
   ]
  },
  {
   "cell_type": "code",
   "execution_count": null,
   "id": "0ecaa949",
   "metadata": {},
   "outputs": [],
   "source": [
    "\n",
    "class RegressionModel(nn.Module):\n",
    "    def __init__(self):\n",
    "        super(RegressionModel, self).__init__()\n",
    "        self.act_func = nn.ReLU()\n",
    "        self.layer1 = nn.Linear(3, 24)  # 3 input features\n",
    "        self.layer2 = nn.Linear(24, 1)  # 1 output\n",
    "\n",
    "    def forward(self, x):\n",
    "        x = self.act_func(self.layer1(x))\n",
    "        x = self.layer2(x)\n",
    "        return x"
   ]
  },
  {
   "cell_type": "code",
   "execution_count": null,
   "id": "34587b94",
   "metadata": {},
   "outputs": [],
   "source": [
    "model = RegressionModel()"
   ]
  },
  {
   "cell_type": "code",
   "execution_count": null,
   "id": "fa2867bd",
   "metadata": {},
   "outputs": [],
   "source": [
    "flnw = create_experiment(config, model)\n"
   ]
  },
  {
   "cell_type": "code",
   "execution_count": null,
   "id": "674141d0",
   "metadata": {},
   "outputs": [],
   "source": [
    "async def execute_experiment(flnw, num_rounds:int, epochs_per_round:int, experiment_name:str):\n",
    "    await flnw.train(num_rounds= num_rounds, epochs_per_round=epochs_per_round, experiment_name=experiment_name)\n",
    "    print(\"Experiment completed.\")"
   ]
  },
  {
   "cell_type": "code",
   "execution_count": null,
   "id": "f3693b1a",
   "metadata": {},
   "outputs": [],
   "source": [
    "import nest_asyncio\n",
    "nest_asyncio.apply()\n",
    "await execute_experiment(flnw, num_rounds=20, epochs_per_round=5, experiment_name=\"federated_mnist_experiment\")"
   ]
  }
 ],
 "metadata": {
  "kernelspec": {
   "display_name": "moxifl",
   "language": "python",
   "name": "python3"
  },
  "language_info": {
   "codemirror_mode": {
    "name": "ipython",
    "version": 3
   },
   "file_extension": ".py",
   "mimetype": "text/x-python",
   "name": "python",
   "nbconvert_exporter": "python",
   "pygments_lexer": "ipython3",
   "version": "3.11.13"
  }
 },
 "nbformat": 4,
 "nbformat_minor": 5
}
