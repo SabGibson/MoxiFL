{
 "cells": [
  {
   "cell_type": "markdown",
   "id": "9259a203",
   "metadata": {},
   "source": [
    "Experiment Type 1 : Regression , Dirichelet; alpha=1  "
   ]
  },
  {
   "cell_type": "code",
   "execution_count": 1,
   "id": "80797c23",
   "metadata": {},
   "outputs": [
    {
     "name": "stderr",
     "output_type": "stream",
     "text": [
      "/home/sgtec/miniconda3/envs/moxifl/lib/python3.11/site-packages/requests/__init__.py:86: RequestsDependencyWarning: Unable to find acceptable character detection dependency (chardet or charset_normalizer).\n",
      "  warnings.warn(\n"
     ]
    }
   ],
   "source": [
    "import sys\n",
    "sys.path.append(\"../..\")\n",
    "from flwr_datasets.partitioner import DirichletPartitioner\n",
    "import torch.nn as nn\n",
    "from torch.optim import SGD\n",
    "from moxi import create_experiment"
   ]
  },
  {
   "cell_type": "code",
   "execution_count": 2,
   "id": "5abcb00f",
   "metadata": {},
   "outputs": [],
   "source": [
    "config = {\n",
    "  \"network_name\": \"federated_binary_classifier_experiment\",\n",
    "  \"network_type\": \"decentralised\",\n",
    "  \"model_type\": \"parametric\",\n",
    "  \"ml_framework\": \"pytorch\",\n",
    "  \"comms\": \"async\",\n",
    "  \"federated_rounds\": 5,\n",
    "  \"network_size\": 5,\n",
    "  \"metrics\": [\"mean_perfomance\",\"convergence\"],\n",
    "  \"logger\": \"mlflow\",\n",
    "  \"node_base_config\":{\n",
    "      \"model\":None,\n",
    "      \"learning_rate\": 1e-3,\n",
    "      \"optimizer\": SGD,\n",
    "      \"train_data\":None,\n",
    "      \"val_data\":None,\n",
    "      \"criterion\":nn.BCEWithLogitsLoss,\n",
    "      \"random_sampling\":False,\n",
    "      \"n_epochs\": 5,\n",
    "      \"batch_size\": 16\n",
    "  },\n",
    "  \"experiment_config\":{\n",
    "      \"task\": \"binary_classification\",\n",
    "      \"partitioner\": DirichletPartitioner,\n",
    "      \"alpha\": 1,\n",
    "      \"num_worker\": 2,\n",
    "      \"max_samples\": 1000\n",
    "  },\n",
    "  \"adjcency_matrix\": None,\n",
    "  \"model\": None }"
   ]
  },
  {
   "cell_type": "code",
   "execution_count": 3,
   "id": "0ecaa949",
   "metadata": {},
   "outputs": [],
   "source": [
    "\n",
    "class BinaryClassifierModel(nn.Module):\n",
    "    def __init__(self):\n",
    "        super().__init__()\n",
    "        self.layer1 = nn.Linear(30, 64)\n",
    "        self.act_func = nn.ReLU();\n",
    "        self.layer2 = nn.Linear(64, 1)\n",
    "\n",
    "    def forward(self, x):\n",
    "        x = self.act_func(self.layer1(x))\n",
    "        x = self.layer2(x)\n",
    "        return x\n"
   ]
  },
  {
   "cell_type": "code",
   "execution_count": 4,
   "id": "34587b94",
   "metadata": {},
   "outputs": [],
   "source": [
    "model = BinaryClassifierModel()"
   ]
  },
  {
   "cell_type": "code",
   "execution_count": 5,
   "id": "fa2867bd",
   "metadata": {},
   "outputs": [
    {
     "name": "stderr",
     "output_type": "stream",
     "text": [
      "/home/sgtec/miniconda3/envs/moxifl/lib/python3.11/site-packages/flwr_datasets/utils.py:109: UserWarning: The currently tested dataset are ['mnist', 'ylecun/mnist', 'cifar10', 'uoft-cs/cifar10', 'fashion_mnist', 'zalando-datasets/fashion_mnist', 'sasha/dog-food', 'zh-plus/tiny-imagenet', 'scikit-learn/adult-census-income', 'cifar100', 'uoft-cs/cifar100', 'svhn', 'ufldl-stanford/svhn', 'sentiment140', 'stanfordnlp/sentiment140', 'speech_commands', 'LIUM/tedlium', 'flwrlabs/femnist', 'flwrlabs/ucf101', 'flwrlabs/ambient-acoustic-context', 'jlh/uci-mushrooms', 'Mike0307/MNIST-M', 'flwrlabs/usps', 'scikit-learn/iris', 'flwrlabs/pacs', 'flwrlabs/cinic10', 'flwrlabs/caltech101', 'flwrlabs/office-home', 'flwrlabs/fed-isic2019']. Given: mnemoraorg/wisconsin-breast-cancer-diagnostic.\n",
      "  warnings.warn(\n"
     ]
    }
   ],
   "source": [
    "flnw = create_experiment(config, model)\n"
   ]
  },
  {
   "cell_type": "code",
   "execution_count": 6,
   "id": "674141d0",
   "metadata": {},
   "outputs": [],
   "source": [
    "async def execute_experiment(flnw, num_rounds:int, epochs_per_round:int, experiment_name:str):\n",
    "    await flnw.train(num_rounds= num_rounds, epochs_per_round=epochs_per_round, experiment_name=experiment_name)\n",
    "    print(\"Experiment completed.\")"
   ]
  },
  {
   "cell_type": "code",
   "execution_count": 7,
   "id": "f3693b1a",
   "metadata": {},
   "outputs": [
    {
     "name": "stdout",
     "output_type": "stream",
     "text": [
      "Training Complete!\n",
      "Experiment completed.\n"
     ]
    }
   ],
   "source": [
    "import nest_asyncio\n",
    "nest_asyncio.apply()\n",
    "await execute_experiment(flnw, num_rounds=20, epochs_per_round=5, experiment_name=\"federated_binary_classifier_experiment\")"
   ]
  }
 ],
 "metadata": {
  "kernelspec": {
   "display_name": "moxifl",
   "language": "python",
   "name": "python3"
  },
  "language_info": {
   "codemirror_mode": {
    "name": "ipython",
    "version": 3
   },
   "file_extension": ".py",
   "mimetype": "text/x-python",
   "name": "python",
   "nbconvert_exporter": "python",
   "pygments_lexer": "ipython3",
   "version": "3.11.13"
  }
 },
 "nbformat": 4,
 "nbformat_minor": 5
}
